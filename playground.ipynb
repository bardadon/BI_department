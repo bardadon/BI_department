{
 "cells": [
  {
   "cell_type": "code",
   "execution_count": 2,
   "metadata": {},
   "outputs": [
    {
     "ename": "TypeError",
     "evalue": "'float' object is not callable",
     "output_type": "error",
     "traceback": [
      "\u001b[0;31m---------------------------------------------------------------------------\u001b[0m",
      "\u001b[0;31mTypeError\u001b[0m                                 Traceback (most recent call last)",
      "Cell \u001b[0;32mIn[2], line 3\u001b[0m\n\u001b[1;32m      1\u001b[0m \u001b[39mimport\u001b[39;00m \u001b[39mnumpy\u001b[39;00m \u001b[39mas\u001b[39;00m \u001b[39mnp\u001b[39;00m\n\u001b[0;32m----> 3\u001b[0m np\u001b[39m.\u001b[39;49minf()\n",
      "\u001b[0;31mTypeError\u001b[0m: 'float' object is not callable"
     ]
    }
   ],
   "source": [
    "import numpy as np\n",
    "\n",
    "np.inf()"
   ]
  },
  {
   "cell_type": "code",
   "execution_count": null,
   "metadata": {},
   "outputs": [],
   "source": [
    "select \n",
    "    p.payment_id,\n",
    "    p.customer_id,\n",
    "    p.staff_id,\n",
    "    p.rental_id,\n",
    "    p.payment_date,\n",
    "    r.rental_date,\n",
    "    r.return_date,\n",
    "    m.title,\n",
    "    m.description,\n",
    "    m.release_year,\n",
    "    m.rating,\n",
    "    c3.name as category,\n",
    "    p.amount::float as price,\n",
    "    c.first_name,\n",
    "    c.last_name,\n",
    "    c.email,\n",
    "    c.address_id,\n",
    "    a.address,\n",
    "    c1.city,\n",
    "    c2.country\n",
    "from payment as p\n",
    "join rental as r on\n",
    "    p.rental_id = r.rental_id\n",
    "join customer as c on\n",
    "    c.customer_id = p.customer_id\n",
    "join address as a on \n",
    "    a.address_id = c.address_id\n",
    "join city as c1 on\n",
    "    c1.city_id = a.city_id\n",
    "join country as c2 on\n",
    "    c2.country_id = c1.country_id\n",
    "join inventory as i on\n",
    "    i.inventory_id = r.inventory_id\n",
    "join film as m on \n",
    "    m.film_id = i.film_id\n",
    "join film_category as f1 on\n",
    "    f1.film_id = m.film_id\n",
    "join category as c3 on\n",
    "    c3.category_id = f1.category_id\n",
    "where\n",
    "    payment_date > '{latest_date}'\n",
    "order by \n",
    "    payment_id desc"
   ]
  }
 ],
 "metadata": {
  "kernelspec": {
   "display_name": "retail_store",
   "language": "python",
   "name": "python3"
  },
  "language_info": {
   "codemirror_mode": {
    "name": "ipython",
    "version": 3
   },
   "file_extension": ".py",
   "mimetype": "text/x-python",
   "name": "python",
   "nbconvert_exporter": "python",
   "pygments_lexer": "ipython3",
   "version": "3.10.6"
  },
  "orig_nbformat": 4
 },
 "nbformat": 4,
 "nbformat_minor": 2
}
